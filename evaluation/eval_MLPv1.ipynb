{
 "cells": [
  {
   "cell_type": "code",
   "execution_count": 47,
   "id": "64745a73-1d76-4bea-a080-6aaa0199691c",
   "metadata": {},
   "outputs": [
    {
     "name": "stdout",
     "output_type": "stream",
     "text": [
      "The autoreload extension is already loaded. To reload it, use:\n",
      "  %reload_ext autoreload\n",
      "import ok\n"
     ]
    }
   ],
   "source": [
    "%load_ext autoreload\n",
    "%autoreload 2\n",
    "%reset -f\n",
    "\n",
    "\n",
    "import psyplot.project as psy\n",
    "import psyplot\n",
    "from psy_maps.plotters import FieldPlotter\n",
    "import netCDF4\n",
    "import glob\n",
    "import xarray as xr\n",
    "import matplotlib as mpl\n",
    "from netCDF4 import Dataset\n",
    "import numpy as np\n",
    "import matplotlib\n",
    "import matplotlib.pyplot as plt\n",
    "from stats import *\n",
    "import sys\n",
    "from scipy.signal import savgol_filter\n",
    "import random\n",
    "\n",
    "%matplotlib inline\n",
    "%config InlineBackend.close_figures = False\n",
    "\n",
    "\n",
    "print(\"import ok\")"
   ]
  },
  {
   "cell_type": "code",
   "execution_count": 48,
   "id": "a352c625-6841-422e-83ee-92a863f8f0f4",
   "metadata": {},
   "outputs": [],
   "source": [
    "def plot_stats(L,label):\n",
    "\n",
    "    x = np.arange(60)\n",
    "    \n",
    "    fig, axs = plt.subplots(2, 2, figsize=(11, 7))\n",
    "    \n",
    "    a = True\n",
    "    \n",
    "    for D, l in zip(L, label):\n",
    "        \n",
    "    \n",
    "        axs[0,0].plot(x, np.zeros(60), label=l)\n",
    "        axs[0,0].set_title(\"legend\")\n",
    "        axs[0,0].legend()\n",
    "        \n",
    "        axs[0,1].plot(x, D['mean_pred'])\n",
    "        axs[0,1].set_title(\"mean_pred\")\n",
    "        if a : \n",
    "            axs[0,1].plot(x, D['mean_true'], label = 'mean_true')\n",
    "            axs[0,1].legend()\n",
    "            a = False    \n",
    "        \n",
    "        axs[1,0].plot(x, D['mae'])\n",
    "        axs[1,0].set_title(\"mae\")\n",
    "        \n",
    "        \n",
    "        \n",
    "        axs[1,1].plot(x, D['r2'])\n",
    "        axs[1,1].set_title(\"r2\")\n",
    "        \n",
    "        axs[1,1].set_ylim(0,1.05)"
   ]
  },
  {
   "cell_type": "code",
   "execution_count": 49,
   "id": "66836d17-863f-4704-a492-198a1aa38091",
   "metadata": {},
   "outputs": [
    {
     "name": "stdout",
     "output_type": "stream",
     "text": [
      "found  72  target set data\n",
      "/gpfsscratch/rech/psl/upu87pm/my_preprocessed_data/v1/test/72/shuffle_reduced_target_00.npy\n"
     ]
    }
   ],
   "source": [
    "reso = \"low\"\n",
    "\n",
    "test_data_path = '/gpfsscratch/rech/psl/upu87pm/my_preprocessed_data/v1/'\n",
    "\n",
    "grid_b = '../data/nc_data/grid_with_boundaries_'+reso + 'res.nc'\n",
    "f_target_save = glob.glob(test_data_path + 'test/72/*target*.npy')\n",
    "#f_target_save = glob.glob(test_data_path + 'val/72/shuffle_reduced_target*.npy')\n",
    "f_target_save = sorted(f_target_save)\n",
    "print(\"found \", len(f_target_save), \" target set data\")\n",
    "print(f_target_save[0])\n",
    "#f_target_save = ['/gpfsscratch/rech/psl/upu87pm/preprocessed_data/scoring_target.npy']\n",
    "\n",
    "unscale = '../ClimSim/preprocessing/normalizations/outputs/output_scale.nc'\n",
    "var = 'ptend_u'\n",
    "prediction_path = '/gpfsscratch/rech/psl/upu87pm/predictions/MLP/MLPv1/'"
   ]
  },
  {
   "cell_type": "code",
   "execution_count": 50,
   "id": "430abffb-439e-4bbd-a6b0-80e920504fdc",
   "metadata": {},
   "outputs": [],
   "source": [
    "L = []\n",
    "label = []\n",
    "time_steps = 72"
   ]
  },
  {
   "cell_type": "code",
   "execution_count": 51,
   "id": "9e8bdba6-79e2-43c5-99bb-a6993c71db8a",
   "metadata": {},
   "outputs": [
    {
     "name": "stdout",
     "output_type": "stream",
     "text": [
      "found  72  predictions\n",
      "/gpfsscratch/rech/psl/upu87pm/predictions/MLP/MLPv1/ClimSim_v1_00.npy\n"
     ]
    },
    {
     "ename": "IndexError",
     "evalue": "index 240 is out of bounds for axis 1 with size 128",
     "output_type": "error",
     "traceback": [
      "\u001b[0;31m---------------------------------------------------------------------------\u001b[0m",
      "\u001b[0;31mIndexError\u001b[0m                                Traceback (most recent call last)",
      "\u001b[0;32m/tmp/ipykernel_40487/78083209.py\u001b[0m in \u001b[0;36m<module>\u001b[0;34m\u001b[0m\n\u001b[1;32m      4\u001b[0m \u001b[0mprint\u001b[0m\u001b[0;34m(\u001b[0m\u001b[0mpred2\u001b[0m\u001b[0;34m[\u001b[0m\u001b[0;36m0\u001b[0m\u001b[0;34m]\u001b[0m\u001b[0;34m)\u001b[0m\u001b[0;34m\u001b[0m\u001b[0;34m\u001b[0m\u001b[0m\n\u001b[1;32m      5\u001b[0m \u001b[0;31m#pred2 = [prediction_path + 'ClimSim_v1_from_prepro.npy']\u001b[0m\u001b[0;34m\u001b[0m\u001b[0;34m\u001b[0m\u001b[0;34m\u001b[0m\u001b[0m\n\u001b[0;32m----> 6\u001b[0;31m \u001b[0mD\u001b[0m \u001b[0;34m=\u001b[0m \u001b[0mcompute_stats\u001b[0m\u001b[0;34m(\u001b[0m\u001b[0mf_target_save\u001b[0m\u001b[0;34m[\u001b[0m\u001b[0;34m:\u001b[0m\u001b[0mtime_steps\u001b[0m\u001b[0;34m]\u001b[0m\u001b[0;34m,\u001b[0m \u001b[0mpred2\u001b[0m\u001b[0;34m[\u001b[0m\u001b[0;34m:\u001b[0m\u001b[0mtime_steps\u001b[0m\u001b[0;34m]\u001b[0m\u001b[0;34m,\u001b[0m \u001b[0mvar\u001b[0m \u001b[0;34m=\u001b[0m \u001b[0mvar\u001b[0m\u001b[0;34m)\u001b[0m\u001b[0;31m#, conv = (dp, area)\u001b[0m\u001b[0;34m\u001b[0m\u001b[0;34m\u001b[0m\u001b[0m\n\u001b[0m\u001b[1;32m      7\u001b[0m \u001b[0mL\u001b[0m\u001b[0;34m.\u001b[0m\u001b[0mappend\u001b[0m\u001b[0;34m(\u001b[0m\u001b[0mD\u001b[0m\u001b[0;34m)\u001b[0m\u001b[0;34m\u001b[0m\u001b[0;34m\u001b[0m\u001b[0m\n\u001b[1;32m      8\u001b[0m \u001b[0mlabel\u001b[0m\u001b[0;34m.\u001b[0m\u001b[0mappend\u001b[0m\u001b[0;34m(\u001b[0m\u001b[0;34m'training with ClimSim MLPv1'\u001b[0m\u001b[0;34m)\u001b[0m\u001b[0;34m\u001b[0m\u001b[0;34m\u001b[0m\u001b[0m\n",
      "\u001b[0;32m/gpfsdswork/projects/rech/psl/upu87pm/hybrid_climate_modelling/evaluation/stats.py\u001b[0m in \u001b[0;36mcompute_stats\u001b[0;34m(filelist_true, filelist_pred, reso, var, unscale, conv)\u001b[0m\n\u001b[1;32m    272\u001b[0m         \u001b[0;31m#open the file of true data, load the data of var and update the metrics\u001b[0m\u001b[0;34m\u001b[0m\u001b[0;34m\u001b[0m\u001b[0;34m\u001b[0m\u001b[0m\n\u001b[1;32m    273\u001b[0m         \u001b[0mdata_t\u001b[0m \u001b[0;34m=\u001b[0m \u001b[0mnp\u001b[0m\u001b[0;34m.\u001b[0m\u001b[0mload\u001b[0m\u001b[0;34m(\u001b[0m\u001b[0mfile_t\u001b[0m\u001b[0;34m,\u001b[0m \u001b[0mmmap_mode\u001b[0m\u001b[0;34m=\u001b[0m\u001b[0;34m'r'\u001b[0m\u001b[0;34m)\u001b[0m\u001b[0;34m\u001b[0m\u001b[0;34m\u001b[0m\u001b[0m\n\u001b[0;32m--> 274\u001b[0;31m         \u001b[0mdata_t\u001b[0m \u001b[0;34m=\u001b[0m \u001b[0mdata_t\u001b[0m\u001b[0;34m[\u001b[0m\u001b[0;34m:\u001b[0m\u001b[0;34m,\u001b[0m\u001b[0mVAR\u001b[0m\u001b[0;34m[\u001b[0m\u001b[0mvar\u001b[0m\u001b[0;34m]\u001b[0m\u001b[0;34m]\u001b[0m\u001b[0;34m.\u001b[0m\u001b[0mreshape\u001b[0m\u001b[0;34m(\u001b[0m\u001b[0;34m(\u001b[0m\u001b[0mncol\u001b[0m\u001b[0;34m,\u001b[0m \u001b[0mT\u001b[0m\u001b[0;34m,\u001b[0m \u001b[0mlev\u001b[0m\u001b[0;34m)\u001b[0m\u001b[0;34m)\u001b[0m\u001b[0;34m\u001b[0m\u001b[0;34m\u001b[0m\u001b[0m\n\u001b[0m\u001b[1;32m    275\u001b[0m         \u001b[0;32mif\u001b[0m \u001b[0munscale\u001b[0m \u001b[0;34m!=\u001b[0m \u001b[0;34m\"\"\u001b[0m\u001b[0;34m:\u001b[0m \u001b[0mdata_t\u001b[0m \u001b[0;34m=\u001b[0m \u001b[0mdata_t\u001b[0m\u001b[0;34m/\u001b[0m\u001b[0mnp\u001b[0m\u001b[0;34m.\u001b[0m\u001b[0marray\u001b[0m\u001b[0;34m(\u001b[0m\u001b[0msc\u001b[0m\u001b[0;34m[\u001b[0m\u001b[0mvar\u001b[0m\u001b[0;34m]\u001b[0m\u001b[0;34m)\u001b[0m\u001b[0;34m.\u001b[0m\u001b[0mreshape\u001b[0m\u001b[0;34m(\u001b[0m\u001b[0;34m(\u001b[0m\u001b[0;36m1\u001b[0m\u001b[0;34m,\u001b[0m\u001b[0;36m1\u001b[0m\u001b[0;34m,\u001b[0m\u001b[0mlev\u001b[0m\u001b[0;34m)\u001b[0m\u001b[0;34m)\u001b[0m\u001b[0;34m\u001b[0m\u001b[0;34m\u001b[0m\u001b[0m\n\u001b[1;32m    276\u001b[0m         \u001b[0;32mif\u001b[0m \u001b[0mlen\u001b[0m\u001b[0;34m(\u001b[0m\u001b[0mconv\u001b[0m\u001b[0;34m)\u001b[0m \u001b[0;34m!=\u001b[0m \u001b[0;36m0\u001b[0m\u001b[0;34m:\u001b[0m \u001b[0mdata_t\u001b[0m \u001b[0;34m=\u001b[0m \u001b[0;34m(\u001b[0m\u001b[0mconv\u001b[0m\u001b[0;34m[\u001b[0m\u001b[0;36m1\u001b[0m\u001b[0;34m]\u001b[0m\u001b[0;34m.\u001b[0m\u001b[0mreshape\u001b[0m\u001b[0;34m(\u001b[0m\u001b[0mncol\u001b[0m\u001b[0;34m,\u001b[0m \u001b[0;36m1\u001b[0m\u001b[0;34m,\u001b[0m \u001b[0;36m1\u001b[0m\u001b[0;34m)\u001b[0m\u001b[0;34m)\u001b[0m\u001b[0;34m*\u001b[0m\u001b[0;34m(\u001b[0m\u001b[0mconv\u001b[0m\u001b[0;34m[\u001b[0m\u001b[0;36m0\u001b[0m\u001b[0;34m]\u001b[0m\u001b[0;34m.\u001b[0m\u001b[0mreshape\u001b[0m\u001b[0;34m(\u001b[0m\u001b[0mncol\u001b[0m\u001b[0;34m,\u001b[0m \u001b[0;36m1\u001b[0m\u001b[0;34m,\u001b[0m \u001b[0mlev\u001b[0m\u001b[0;34m)\u001b[0m\u001b[0;34m)\u001b[0m\u001b[0;34m*\u001b[0m\u001b[0mdata_t\u001b[0m\u001b[0;34m*\u001b[0m\u001b[0mCONV\u001b[0m\u001b[0;34m[\u001b[0m\u001b[0mvar\u001b[0m\u001b[0;34m]\u001b[0m\u001b[0;34m/\u001b[0m\u001b[0;34m(\u001b[0m\u001b[0mgrav\u001b[0m\u001b[0;34m*\u001b[0m\u001b[0mmean_area\u001b[0m\u001b[0;34m)\u001b[0m\u001b[0;34m\u001b[0m\u001b[0;34m\u001b[0m\u001b[0m\n",
      "\u001b[0;32m~/.local/lib/python3.7/site-packages/numpy/core/memmap.py\u001b[0m in \u001b[0;36m__getitem__\u001b[0;34m(self, index)\u001b[0m\n\u001b[1;32m    332\u001b[0m \u001b[0;34m\u001b[0m\u001b[0m\n\u001b[1;32m    333\u001b[0m     \u001b[0;32mdef\u001b[0m \u001b[0m__getitem__\u001b[0m\u001b[0;34m(\u001b[0m\u001b[0mself\u001b[0m\u001b[0;34m,\u001b[0m \u001b[0mindex\u001b[0m\u001b[0;34m)\u001b[0m\u001b[0;34m:\u001b[0m\u001b[0;34m\u001b[0m\u001b[0;34m\u001b[0m\u001b[0m\n\u001b[0;32m--> 334\u001b[0;31m         \u001b[0mres\u001b[0m \u001b[0;34m=\u001b[0m \u001b[0msuper\u001b[0m\u001b[0;34m(\u001b[0m\u001b[0;34m)\u001b[0m\u001b[0;34m.\u001b[0m\u001b[0m__getitem__\u001b[0m\u001b[0;34m(\u001b[0m\u001b[0mindex\u001b[0m\u001b[0;34m)\u001b[0m\u001b[0;34m\u001b[0m\u001b[0;34m\u001b[0m\u001b[0m\n\u001b[0m\u001b[1;32m    335\u001b[0m         \u001b[0;32mif\u001b[0m \u001b[0mtype\u001b[0m\u001b[0;34m(\u001b[0m\u001b[0mres\u001b[0m\u001b[0;34m)\u001b[0m \u001b[0;32mis\u001b[0m \u001b[0mmemmap\u001b[0m \u001b[0;32mand\u001b[0m \u001b[0mres\u001b[0m\u001b[0;34m.\u001b[0m\u001b[0m_mmap\u001b[0m \u001b[0;32mis\u001b[0m \u001b[0;32mNone\u001b[0m\u001b[0;34m:\u001b[0m\u001b[0;34m\u001b[0m\u001b[0;34m\u001b[0m\u001b[0m\n\u001b[1;32m    336\u001b[0m             \u001b[0;32mreturn\u001b[0m \u001b[0mres\u001b[0m\u001b[0;34m.\u001b[0m\u001b[0mview\u001b[0m\u001b[0;34m(\u001b[0m\u001b[0mtype\u001b[0m\u001b[0;34m=\u001b[0m\u001b[0mndarray\u001b[0m\u001b[0;34m)\u001b[0m\u001b[0;34m\u001b[0m\u001b[0;34m\u001b[0m\u001b[0m\n",
      "\u001b[0;31mIndexError\u001b[0m: index 240 is out of bounds for axis 1 with size 128"
     ]
    }
   ],
   "source": [
    "pred2 = glob.glob(prediction_path + '*ClimSim_v1_*.npy')\n",
    "pred2 = sorted(pred2)\n",
    "print(\"found \", len(pred2), \" predictions\")\n",
    "print(pred2[0])\n",
    "#pred2 = [prediction_path + 'ClimSim_v1_from_prepro.npy']\n",
    "D = compute_stats(f_target_save[:time_steps], pred2[:time_steps], var = var)#, conv = (dp, area)\n",
    "L.append(D)\n",
    "label.append('training with ClimSim MLPv1')"
   ]
  },
  {
   "cell_type": "code",
   "execution_count": null,
   "id": "f071761d-dd47-4e81-a809-c7022547f82d",
   "metadata": {},
   "outputs": [],
   "source": [
    "plot_stats(L, label)"
   ]
  },
  {
   "cell_type": "code",
   "execution_count": null,
   "id": "0d38279f-aa8a-48cb-a27d-cc5ed01e0268",
   "metadata": {},
   "outputs": [],
   "source": []
  }
 ],
 "metadata": {
  "kernelspec": {
   "display_name": "tensorflow-gpu-2.6.0",
   "language": "python",
   "name": "module-conda-env-tensorflow-gpu-2.6.0"
  },
  "language_info": {
   "codemirror_mode": {
    "name": "ipython",
    "version": 3
   },
   "file_extension": ".py",
   "mimetype": "text/x-python",
   "name": "python",
   "nbconvert_exporter": "python",
   "pygments_lexer": "ipython3",
   "version": "3.7.10"
  }
 },
 "nbformat": 4,
 "nbformat_minor": 5
}
