{
 "cells": [
  {
   "cell_type": "code",
   "execution_count": 18,
   "id": "c6207c10-f149-4161-88de-e4e04f25551b",
   "metadata": {},
   "outputs": [],
   "source": [
    "import numpy as np\n",
    "import csv\n",
    "import matplotlib.pyplot as plt\n",
    "import glob\n",
    "import pandas as pd\n",
    "from tensorflow import keras"
   ]
  },
  {
   "cell_type": "code",
   "execution_count": 19,
   "id": "93298923-ae71-4d7f-832f-caa4ace0277c",
   "metadata": {},
   "outputs": [],
   "source": [
    "MODELPATH='saved_model/best_model_proto.h5'"
   ]
  },
  {
   "cell_type": "code",
   "execution_count": 20,
   "id": "a5caf72c-70de-4191-bbd2-f7cfe39093d1",
   "metadata": {},
   "outputs": [
    {
     "name": "stdout",
     "output_type": "stream",
     "text": [
      "Model: \"Emulator\"\n",
      "__________________________________________________________________________________________________\n",
      " Layer (type)                   Output Shape         Param #     Connected to                     \n",
      "==================================================================================================\n",
      " input (InputLayer)             [(None, 124)]        0           []                               \n",
      "                                                                                                  \n",
      " dense (Dense)                  (None, 512)          64000       ['input[0][0]']                  \n",
      "                                                                                                  \n",
      " dense_1 (Dense)                (None, 512)          262656      ['dense[0][0]']                  \n",
      "                                                                                                  \n",
      " dense_2 (Dense)                (None, 128)          65664       ['dense_1[0][0]']                \n",
      "                                                                                                  \n",
      " dense_3 (Dense)                (None, 120)          15480       ['dense_2[0][0]']                \n",
      "                                                                                                  \n",
      " dense_4 (Dense)                (None, 8)            1032        ['dense_2[0][0]']                \n",
      "                                                                                                  \n",
      " concatenate (Concatenate)      (None, 128)          0           ['dense_3[0][0]',                \n",
      "                                                                  'dense_4[0][0]']                \n",
      "                                                                                                  \n",
      "==================================================================================================\n",
      "Total params: 408,832\n",
      "Trainable params: 408,832\n",
      "Non-trainable params: 0\n",
      "__________________________________________________________________________________________________\n"
     ]
    }
   ],
   "source": [
    "model = keras.models.load_model(MODELPATH, compile=False) #do not need to compile for inference\n",
    "model.summary()"
   ]
  },
  {
   "cell_type": "code",
   "execution_count": 21,
   "id": "9ab5e2cd-6b99-47c5-95f8-84833a2c246a",
   "metadata": {},
   "outputs": [
    {
     "name": "stdout",
     "output_type": "stream",
     "text": [
      "12/12 [==============================] - 0s 2ms/step\n"
     ]
    }
   ],
   "source": [
    "f_input = '../data/npy_data/first_test_input_set.npy'\n",
    "ml_in = np.load(f_input)\n",
    "    \n",
    "ml_out = model.predict(ml_in)\n",
    "    \n",
    "f_save = '../data/npy_data/prediction/first_test_prediction.npy'\n",
    "np.save(f_save, ml_out)"
   ]
  },
  {
   "cell_type": "code",
   "execution_count": 22,
   "id": "e315aee9-2d7f-4e13-ab37-46b6138f7537",
   "metadata": {},
   "outputs": [
    {
     "data": {
      "text/plain": [
       "array([[-2.1118631e-03, -2.4207363e-02, -1.3806459e-02, ...,\n",
       "         0.0000000e+00,  0.0000000e+00,  0.0000000e+00],\n",
       "       [-5.7126591e-03, -6.8008588e-03, -6.2709111e-03, ...,\n",
       "         1.2613983e-02,  1.9344801e-02,  0.0000000e+00],\n",
       "       [-1.2805669e-02, -2.2106944e-02,  1.4791742e-02, ...,\n",
       "         0.0000000e+00,  5.7644859e-02,  0.0000000e+00],\n",
       "       ...,\n",
       "       [ 1.7219670e-02, -3.5117720e-03, -2.4585001e-02, ...,\n",
       "         7.6132900e-01,  2.2987801e-01,  9.6846357e-02],\n",
       "       [ 4.4481209e-03,  8.9496560e-03,  1.4596138e-02, ...,\n",
       "         1.0759934e+00,  2.4639514e-01,  1.3525523e-01],\n",
       "       [ 1.0581753e-03,  7.5565889e-03,  1.2063675e-02, ...,\n",
       "         1.0049270e+00,  2.2485410e-01,  1.1331338e-01]], dtype=float32)"
      ]
     },
     "execution_count": 22,
     "metadata": {},
     "output_type": "execute_result"
    }
   ],
   "source": [
    "ml_out"
   ]
  }
 ],
 "metadata": {
  "kernelspec": {
   "display_name": "tensorflow-2.9.1_py3.10",
   "language": "python",
   "name": "module-conda-env-tensorflow-2.9.1_py3.10"
  },
  "language_info": {
   "codemirror_mode": {
    "name": "ipython",
    "version": 3
   },
   "file_extension": ".py",
   "mimetype": "text/x-python",
   "name": "python",
   "nbconvert_exporter": "python",
   "pygments_lexer": "ipython3",
   "version": "3.10.5"
  }
 },
 "nbformat": 4,
 "nbformat_minor": 5
}
