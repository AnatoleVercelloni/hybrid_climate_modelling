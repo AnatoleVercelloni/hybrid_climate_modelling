{
 "cells": [
  {
   "cell_type": "code",
   "execution_count": 1,
   "id": "c6207c10-f149-4161-88de-e4e04f25551b",
   "metadata": {},
   "outputs": [],
   "source": [
    "import numpy as np\n",
    "import csv\n",
    "import matplotlib.pyplot as plt\n",
    "import glob\n",
    "import pandas as pd\n",
    "from tensorflow import keras"
   ]
  },
  {
   "cell_type": "code",
   "execution_count": 3,
   "id": "93298923-ae71-4d7f-832f-caa4ace0277c",
   "metadata": {},
   "outputs": [],
   "source": [
    "MODELPATH='saved_model/best_model_proto.h5'\n",
    "MODELPATH2='model/backup_phase-7_retrained_models_step2_lot-147_trial_0027.best.h5'\n",
    "MYMODELPATH = 'best.h5'"
   ]
  },
  {
   "cell_type": "code",
   "execution_count": 5,
   "id": "a5caf72c-70de-4191-bbd2-f7cfe39093d1",
   "metadata": {},
   "outputs": [
    {
     "name": "stdout",
     "output_type": "stream",
     "text": [
      "Model: \"MLPv1_model\"\n",
      "__________________________________________________________________________________________________\n",
      " Layer (type)                   Output Shape         Param #     Connected to                     \n",
      "==================================================================================================\n",
      " input (InputLayer)             [(None, 124)]        0           []                               \n",
      "                                                                                                  \n",
      " dense (Dense)                  (None, 768)          96000       ['input[0][0]']                  \n",
      "                                                                                                  \n",
      " dense_1 (Dense)                (None, 640)          492160      ['dense[0][0]']                  \n",
      "                                                                                                  \n",
      " dense_2 (Dense)                (None, 512)          328192      ['dense_1[0][0]']                \n",
      "                                                                                                  \n",
      " dense_3 (Dense)                (None, 640)          328320      ['dense_2[0][0]']                \n",
      "                                                                                                  \n",
      " dense_4 (Dense)                (None, 640)          410240      ['dense_3[0][0]']                \n",
      "                                                                                                  \n",
      " dense_5 (Dense)                (None, 128)          82048       ['dense_4[0][0]']                \n",
      "                                                                                                  \n",
      " dense_6 (Dense)                (None, 120)          15480       ['dense_5[0][0]']                \n",
      "                                                                                                  \n",
      " dense_7 (Dense)                (None, 8)            1032        ['dense_5[0][0]']                \n",
      "                                                                                                  \n",
      " concatenate (Concatenate)      (None, 128)          0           ['dense_6[0][0]',                \n",
      "                                                                  'dense_7[0][0]']                \n",
      "                                                                                                  \n",
      "==================================================================================================\n",
      "Total params: 1,753,472\n",
      "Trainable params: 1,753,472\n",
      "Non-trainable params: 0\n",
      "__________________________________________________________________________________________________\n"
     ]
    }
   ],
   "source": [
    "model = keras.models.load_model(MYMODELPATH, compile=False) #do not need to compile for inference\n",
    "model.summary()"
   ]
  },
  {
   "cell_type": "code",
   "execution_count": 6,
   "id": "9ab5e2cd-6b99-47c5-95f8-84833a2c246a",
   "metadata": {},
   "outputs": [],
   "source": [
    "fn_x_input = '/gpfsscratch/rech/psl/upu87pm/preprocessed_data/scoring_input.npy'\n",
    "\n",
    "input_set = x_true = np.load(fn_x_input).astype(np.float64)\n",
    "    \n"
   ]
  },
  {
   "cell_type": "code",
   "execution_count": 3,
   "id": "baf2d284-85cc-4357-acbb-b9a8d46a6e88",
   "metadata": {},
   "outputs": [],
   "source": [
    "fn_x_target = '/gpfsscratch/rech/psl/upu87pm/preprocessed_data/scoring_target.npy'\n",
    "\n",
    "target_set = x_true = np.load(fn_x_target).astype(np.float64)\n"
   ]
  },
  {
   "cell_type": "code",
   "execution_count": 7,
   "id": "d54d0522-2c48-4549-96ab-18169af0daa9",
   "metadata": {},
   "outputs": [
    {
     "name": "stdout",
     "output_type": "stream",
     "text": [
      "720/720 [==============================] - 12s 15ms/step\n",
      "720/720 [==============================] - 11s 15ms/step\n",
      "720/720 [==============================] - 11s 15ms/step\n",
      "720/720 [==============================] - 10s 14ms/step\n",
      "720/720 [==============================] - 11s 15ms/step\n",
      "720/720 [==============================] - 11s 15ms/step\n",
      "720/720 [==============================] - 11s 15ms/step\n",
      "720/720 [==============================] - 11s 15ms/step\n",
      "720/720 [==============================] - 10s 14ms/step\n",
      "720/720 [==============================] - 11s 15ms/step\n",
      "720/720 [==============================] - 11s 15ms/step\n",
      "720/720 [==============================] - 11s 15ms/step\n",
      "720/720 [==============================] - 11s 15ms/step\n",
      "720/720 [==============================] - 11s 15ms/step\n",
      "720/720 [==============================] - 11s 15ms/step\n",
      "720/720 [==============================] - 11s 15ms/step\n",
      "720/720 [==============================] - 11s 15ms/step\n",
      "720/720 [==============================] - 11s 15ms/step\n",
      "720/720 [==============================] - 11s 15ms/step\n",
      "720/720 [==============================] - 11s 15ms/step\n",
      "720/720 [==============================] - 11s 15ms/step\n",
      "720/720 [==============================] - 11s 15ms/step\n",
      "720/720 [==============================] - 10s 14ms/step\n",
      "720/720 [==============================] - 11s 15ms/step\n",
      "720/720 [==============================] - 11s 16ms/step\n",
      "720/720 [==============================] - 11s 15ms/step\n",
      "720/720 [==============================] - 11s 15ms/step\n",
      "720/720 [==============================] - 12s 16ms/step\n",
      "720/720 [==============================] - 12s 16ms/step\n",
      "720/720 [==============================] - 11s 15ms/step\n",
      "720/720 [==============================] - 11s 15ms/step\n",
      "720/720 [==============================] - 11s 16ms/step\n",
      "720/720 [==============================] - 11s 16ms/step\n",
      "720/720 [==============================] - 11s 15ms/step\n",
      "720/720 [==============================] - 11s 15ms/step\n",
      "720/720 [==============================] - 11s 15ms/step\n",
      "720/720 [==============================] - 12s 17ms/step\n",
      "720/720 [==============================] - 11s 16ms/step\n",
      "720/720 [==============================] - 12s 16ms/step\n",
      "720/720 [==============================] - 12s 16ms/step\n",
      "720/720 [==============================] - 11s 15ms/step\n",
      "720/720 [==============================] - 11s 15ms/step\n",
      "720/720 [==============================] - 11s 15ms/step\n",
      "720/720 [==============================] - 11s 15ms/step\n",
      "720/720 [==============================] - 11s 15ms/step\n",
      "720/720 [==============================] - 11s 15ms/step\n",
      "720/720 [==============================] - 11s 16ms/step\n",
      "720/720 [==============================] - 12s 16ms/step\n",
      "720/720 [==============================] - 11s 15ms/step\n",
      "720/720 [==============================] - 10s 14ms/step\n",
      "720/720 [==============================] - 10s 14ms/step\n",
      "720/720 [==============================] - 10s 14ms/step\n",
      "720/720 [==============================] - 10s 14ms/step\n",
      "720/720 [==============================] - 10s 14ms/step\n",
      "720/720 [==============================] - 11s 15ms/step\n",
      "720/720 [==============================] - 11s 15ms/step\n",
      "720/720 [==============================] - 11s 15ms/step\n",
      "720/720 [==============================] - 12s 17ms/step\n",
      "720/720 [==============================] - 11s 15ms/step\n",
      "720/720 [==============================] - 12s 17ms/step\n",
      "720/720 [==============================] - 11s 15ms/step\n",
      "720/720 [==============================] - 11s 15ms/step\n",
      "720/720 [==============================] - 12s 17ms/step\n",
      "720/720 [==============================] - 11s 16ms/step\n",
      "720/720 [==============================] - 11s 15ms/step\n",
      "720/720 [==============================] - 12s 16ms/step\n",
      "720/720 [==============================] - 11s 15ms/step\n",
      "720/720 [==============================] - 10s 14ms/step\n",
      "720/720 [==============================] - 11s 15ms/step\n",
      "720/720 [==============================] - 11s 15ms/step\n",
      "720/720 [==============================] - 11s 15ms/step\n",
      "720/720 [==============================] - 11s 15ms/step\n",
      "720/720 [==============================] - 11s 15ms/step\n",
      "ERROR! Session/line number was not unique in database. History logging moved to new session 233\n"
     ]
    },
    {
     "name": "stderr",
     "output_type": "stream",
     "text": [
      "Exception ignored in atexit callback: <bound method InteractiveShell.atexit_operations of <ipykernel.zmqshell.ZMQInteractiveShell object at 0x7f190aad12a0>>\n",
      "Traceback (most recent call last):\n",
      "  File \"/gpfslocalsup/pub/anaconda-py3/2021.05/envs/tensorflow-2.9.1+py3.10/lib/python3.10/site-packages/IPython/core/interactiveshell.py\", line 3765, in atexit_operations\n",
      "    self._atexit_once()\n",
      "  File \"/gpfslocalsup/pub/anaconda-py3/2021.05/envs/tensorflow-2.9.1+py3.10/lib/python3.10/site-packages/IPython/core/interactiveshell.py\", line 3748, in _atexit_once\n",
      "    self.history_manager.end_session()\n",
      "  File \"/gpfslocalsup/pub/anaconda-py3/2021.05/envs/tensorflow-2.9.1+py3.10/lib/python3.10/site-packages/IPython/core/history.py\", line 604, in end_session\n",
      "    self.db.execute(\"\"\"UPDATE sessions SET end=?, num_cmds=? WHERE\n",
      "sqlite3.OperationalError: disk I/O error\n"
     ]
    }
   ],
   "source": [
    "b = 384*60\n",
    "\n",
    "for i in range(73):\n",
    "    mini_set_input = np.array([input_set[i,:] for i in range(b*i, b*i+b)])\n",
    "\n",
    "    ml_out = model.predict(mini_set_input)\n",
    "    \n",
    "    f_pred_save = '../data/npy_data/prediction/myprediction_'+str(i)+'.npy'\n",
    "    np.save(f_pred_save, ml_out)\n",
    "\n",
    "    \n",
    "    del ml_out\n",
    "    del mini_set_input\n",
    "    del f_pred_save\n",
    "    "
   ]
  },
  {
   "cell_type": "code",
   "execution_count": 6,
   "id": "f6475f03-20a5-4e0c-9578-5a0d11051e68",
   "metadata": {},
   "outputs": [
    {
     "ename": "NameError",
     "evalue": "name 'target_set' is not defined",
     "output_type": "error",
     "traceback": [
      "\u001b[0;31m---------------------------------------------------------------------------\u001b[0m",
      "\u001b[0;31mNameError\u001b[0m                                 Traceback (most recent call last)",
      "Input \u001b[0;32mIn [6]\u001b[0m, in \u001b[0;36m<cell line: 3>\u001b[0;34m()\u001b[0m\n\u001b[1;32m      1\u001b[0m b \u001b[38;5;241m=\u001b[39m \u001b[38;5;241m384\u001b[39m\u001b[38;5;241m*\u001b[39m\u001b[38;5;241m60\u001b[39m\n\u001b[1;32m      3\u001b[0m \u001b[38;5;28;01mfor\u001b[39;00m i \u001b[38;5;129;01min\u001b[39;00m \u001b[38;5;28mrange\u001b[39m(\u001b[38;5;241m73\u001b[39m):\n\u001b[0;32m----> 4\u001b[0m     mini_set_target \u001b[38;5;241m=\u001b[39m np\u001b[38;5;241m.\u001b[39marray([target_set[i,:] \u001b[38;5;28;01mfor\u001b[39;00m i \u001b[38;5;129;01min\u001b[39;00m \u001b[38;5;28mrange\u001b[39m(b\u001b[38;5;241m*\u001b[39mi, b\u001b[38;5;241m*\u001b[39mi\u001b[38;5;241m+\u001b[39mb)])\n\u001b[1;32m      6\u001b[0m     f_targ_save \u001b[38;5;241m=\u001b[39m \u001b[38;5;124m'\u001b[39m\u001b[38;5;124m../data/npy_data/prediction/target_\u001b[39m\u001b[38;5;124m'\u001b[39m\u001b[38;5;241m+\u001b[39m\u001b[38;5;28mstr\u001b[39m(i)\u001b[38;5;241m+\u001b[39m\u001b[38;5;124m'\u001b[39m\u001b[38;5;124m.npy\u001b[39m\u001b[38;5;124m'\u001b[39m\n\u001b[1;32m      7\u001b[0m     np\u001b[38;5;241m.\u001b[39msave(f_targ_save, mini_set_target)\n",
      "Input \u001b[0;32mIn [6]\u001b[0m, in \u001b[0;36m<listcomp>\u001b[0;34m(.0)\u001b[0m\n\u001b[1;32m      1\u001b[0m b \u001b[38;5;241m=\u001b[39m \u001b[38;5;241m384\u001b[39m\u001b[38;5;241m*\u001b[39m\u001b[38;5;241m60\u001b[39m\n\u001b[1;32m      3\u001b[0m \u001b[38;5;28;01mfor\u001b[39;00m i \u001b[38;5;129;01min\u001b[39;00m \u001b[38;5;28mrange\u001b[39m(\u001b[38;5;241m73\u001b[39m):\n\u001b[0;32m----> 4\u001b[0m     mini_set_target \u001b[38;5;241m=\u001b[39m np\u001b[38;5;241m.\u001b[39marray([\u001b[43mtarget_set\u001b[49m[i,:] \u001b[38;5;28;01mfor\u001b[39;00m i \u001b[38;5;129;01min\u001b[39;00m \u001b[38;5;28mrange\u001b[39m(b\u001b[38;5;241m*\u001b[39mi, b\u001b[38;5;241m*\u001b[39mi\u001b[38;5;241m+\u001b[39mb)])\n\u001b[1;32m      6\u001b[0m     f_targ_save \u001b[38;5;241m=\u001b[39m \u001b[38;5;124m'\u001b[39m\u001b[38;5;124m../data/npy_data/prediction/target_\u001b[39m\u001b[38;5;124m'\u001b[39m\u001b[38;5;241m+\u001b[39m\u001b[38;5;28mstr\u001b[39m(i)\u001b[38;5;241m+\u001b[39m\u001b[38;5;124m'\u001b[39m\u001b[38;5;124m.npy\u001b[39m\u001b[38;5;124m'\u001b[39m\n\u001b[1;32m      7\u001b[0m     np\u001b[38;5;241m.\u001b[39msave(f_targ_save, mini_set_target)\n",
      "\u001b[0;31mNameError\u001b[0m: name 'target_set' is not defined"
     ]
    },
    {
     "name": "stderr",
     "output_type": "stream",
     "text": [
      "Exception ignored in atexit callback: <bound method InteractiveShell.atexit_operations of <ipykernel.zmqshell.ZMQInteractiveShell object at 0x7fbafffe1150>>\n",
      "Traceback (most recent call last):\n",
      "  File \"/gpfslocalsup/pub/anaconda-py3/2021.05/envs/tensorflow-2.9.1+py3.10/lib/python3.10/site-packages/IPython/core/interactiveshell.py\", line 3765, in atexit_operations\n",
      "    self._atexit_once()\n",
      "  File \"/gpfslocalsup/pub/anaconda-py3/2021.05/envs/tensorflow-2.9.1+py3.10/lib/python3.10/site-packages/IPython/core/interactiveshell.py\", line 3748, in _atexit_once\n",
      "    self.history_manager.end_session()\n",
      "  File \"/gpfslocalsup/pub/anaconda-py3/2021.05/envs/tensorflow-2.9.1+py3.10/lib/python3.10/site-packages/IPython/core/history.py\", line 604, in end_session\n",
      "    self.db.execute(\"\"\"UPDATE sessions SET end=?, num_cmds=? WHERE\n",
      "sqlite3.OperationalError: disk I/O error\n"
     ]
    }
   ],
   "source": [
    "b = 384*60\n",
    "\n",
    "for i in range(73):\n",
    "    mini_set_target = np.array([target_set[i,:] for i in range(b*i, b*i+b)])\n",
    "\n",
    "    f_targ_save = '../data/npy_data/prediction/target_'+str(i)+'.npy'\n",
    "    np.save(f_targ_save, mini_set_target)\n",
    "    print(f_targ_save, \"  saved\")\n",
    "    del mini_set_target"
   ]
  },
  {
   "cell_type": "code",
   "execution_count": null,
   "id": "87f57f33-306e-4272-bde2-aa85db3083e0",
   "metadata": {},
   "outputs": [],
   "source": []
  }
 ],
 "metadata": {
  "kernelspec": {
   "display_name": "tensorflow-2.9.1_py3.10",
   "language": "python",
   "name": "module-conda-env-tensorflow-2.9.1_py3.10"
  },
  "language_info": {
   "codemirror_mode": {
    "name": "ipython",
    "version": 3
   },
   "file_extension": ".py",
   "mimetype": "text/x-python",
   "name": "python",
   "nbconvert_exporter": "python",
   "pygments_lexer": "ipython3",
   "version": "3.10.5"
  }
 },
 "nbformat": 4,
 "nbformat_minor": 5
}
